{
 "cells": [
  {
   "cell_type": "code",
   "execution_count": null,
   "id": "5facb78e-45f6-4eea-9155-e82c977dba4d",
   "metadata": {},
   "outputs": [],
   "source": [
    "import numpy as np\n",
    "import random\n",
    "\n",
    "def SieveOfErathosthenes(n):\n",
    "    prime = np.ones(n+1, dtype=bool)\n",
    "    prime[0] = False\n",
    "    prime[1] = False\n",
    "    p = 2\n",
    "    while(p*p <= n):\n",
    "        if(prime[p]):\n",
    "            for i in range(p*p, n+1, p):\n",
    "                prime[i] = False\n",
    "        p += 1\n",
    "    primes = []\n",
    "    for i in range(n+1):\n",
    "        if(prime[i]):\n",
    "            primes.append(i)\n",
    "    return primes\n",
    "\n",
    "def is_Prime(n):\n",
    "    return n in SieveOfErathosthenes(n+1)\n",
    "\n",
    "def roll_dice(number_of_faces):\n",
    "    sum_rolls = 0\n",
    "    num_rolls = 0\n",
    "\n",
    "    while not is_Prime(sum_rolls):\n",
    "        sum_rolls += random.randint(1,number_of_faces)\n",
    "        num_rolls += 1\n",
    "    return num_rolls\n",
    "\n",
    "def run_m_simulations(m, i):\n",
    "    total_trials = 0\n",
    "    avg = 0\n",
    "    for _ in range (m):\n",
    "        total_trials += roll_dice(i)\n",
    "    avg = total_trials / m\n",
    "    return avg\n",
    "\n",
    "\n",
    "if __name__ == \"__main__\":\n",
    "    m = int(input())\n",
    "    for i in range (2, 11):\n",
    "      avg = run_m_simulations(m, i)\n",
    "      print(f\"Dice with {i} faces: Hitting a prime in {avg} dice rolls (on average)\\n\")\n"
   ]
  }
 ],
 "metadata": {
  "kernelspec": {
   "display_name": "Python 3 (ipykernel)",
   "language": "python",
   "name": "python3"
  },
  "language_info": {
   "codemirror_mode": {
    "name": "ipython",
    "version": 3
   },
   "file_extension": ".py",
   "mimetype": "text/x-python",
   "name": "python",
   "nbconvert_exporter": "python",
   "pygments_lexer": "ipython3",
   "version": "3.11.5"
  }
 },
 "nbformat": 4,
 "nbformat_minor": 5
}
